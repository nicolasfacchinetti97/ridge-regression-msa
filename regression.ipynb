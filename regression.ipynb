{
 "cells": [
  {
   "cell_type": "code",
   "execution_count": 1,
   "metadata": {
    "tags": []
   },
   "outputs": [],
   "source": [
    "import pandas as pd\n",
    "import numpy as np\n",
    "import matplotlib.pyplot as plt\n",
    "\n",
    "from model import RidgeRegression\n",
    "from selection import KFoldCV, NestedCV"
   ]
  },
  {
   "cell_type": "code",
   "execution_count": 2,
   "metadata": {},
   "outputs": [],
   "source": [
    "def get_weights(data, target, model, name):\n",
    "    val = data.columns.values.tolist()\n",
    "    val.remove(target)\n",
    "    return pd.DataFrame(data=model.get_weight(), index=val, columns=[name])"
   ]
  },
  {
   "cell_type": "markdown",
   "metadata": {},
   "source": [
    "## Procediamo a fare il training e valutiamo i risultati con cross validation"
   ]
  },
  {
   "cell_type": "markdown",
   "metadata": {},
   "source": [
    "Carichiamo i dataset elaborati ottenuti dal notebook elaboration e definiamo la funzione di loss"
   ]
  },
  {
   "cell_type": "code",
   "execution_count": 24,
   "metadata": {},
   "outputs": [],
   "source": [
    "def quadratic_loss(y_true, y_pred):\n",
    "    return (y_true-y_pred)**2\n",
    "\n",
    "dataA = (\"base\", pd.read_pickle(\"./base.pkl\"))\n",
    "dataB = (\"base no out\", pd.read_pickle(\"./base_no_out.pkl\"))\n",
    "dataC = (\"add features\", pd.read_pickle(\"./add_features.pkl\"))\n",
    "dataD = (\"log\", pd.read_pickle(\"./log.pkl\"))\n",
    "dataE = (\"removed\", pd.read_pickle(\"./removed.pkl\"))"
   ]
  },
  {
   "cell_type": "markdown",
   "metadata": {},
   "source": [
    "Definiamo il numero di fold e l'insieme di iperparemtri"
   ]
  },
  {
   "cell_type": "code",
   "execution_count": 4,
   "metadata": {},
   "outputs": [],
   "source": [
    "folds = 5\n",
    "kfolds = KFoldCV(folds, print=False)\n",
    "alfas = [0, 1e-10, 1e-8, 1e-6, 1e-4, 1e-3, 1e-2, 1, 5, 10, 20, 100]\n"
   ]
  },
  {
   "cell_type": "code",
   "execution_count": null,
   "metadata": {},
   "outputs": [],
   "source": []
  },
  {
   "cell_type": "markdown",
   "metadata": {},
   "source": [
    "Facciamo training del modello di regressione e valutiamo i risultati con cross validation"
   ]
  },
  {
   "cell_type": "code",
   "execution_count": 5,
   "metadata": {
    "tags": []
   },
   "outputs": [],
   "source": [
    "ridge = RidgeRegression(alfa=1e-3)\n"
   ]
  },
  {
   "cell_type": "code",
   "execution_count": 21,
   "metadata": {},
   "outputs": [
    {
     "data": {
      "text/html": [
       "<div>\n",
       "<style scoped>\n",
       "    .dataframe tbody tr th:only-of-type {\n",
       "        vertical-align: middle;\n",
       "    }\n",
       "\n",
       "    .dataframe tbody tr th {\n",
       "        vertical-align: top;\n",
       "    }\n",
       "\n",
       "    .dataframe thead th {\n",
       "        text-align: right;\n",
       "    }\n",
       "</style>\n",
       "<table border=\"1\" class=\"dataframe\">\n",
       "  <thead>\n",
       "    <tr style=\"text-align: right;\">\n",
       "      <th></th>\n",
       "      <th>base</th>\n",
       "    </tr>\n",
       "  </thead>\n",
       "  <tbody>\n",
       "    <tr>\n",
       "      <th>0</th>\n",
       "      <td>0.410921</td>\n",
       "    </tr>\n",
       "    <tr>\n",
       "      <th>1</th>\n",
       "      <td>0.449697</td>\n",
       "    </tr>\n",
       "    <tr>\n",
       "      <th>2</th>\n",
       "      <td>0.398471</td>\n",
       "    </tr>\n",
       "    <tr>\n",
       "      <th>3</th>\n",
       "      <td>0.372477</td>\n",
       "    </tr>\n",
       "    <tr>\n",
       "      <th>4</th>\n",
       "      <td>0.451084</td>\n",
       "    </tr>\n",
       "  </tbody>\n",
       "</table>\n",
       "</div>"
      ],
      "text/plain": [
       "       base\n",
       "0  0.410921\n",
       "1  0.449697\n",
       "2  0.398471\n",
       "3  0.372477\n",
       "4  0.451084"
      ]
     },
     "execution_count": 21,
     "metadata": {},
     "output_type": "execute_result"
    }
   ],
   "source": [
    "error = []\n",
    "\n",
    "error.append(kfolds.cross_validate(ridge, dataA[1], \"median_house_value\", quadratic_loss))\n",
    "c1 = get_weights(dataA[1], \"median_house_value\", ridge, dataA[0])\n",
    "\n",
    "error.append(kfolds.cross_validate(ridge, dataB[1], \"median_house_value\", quadratic_loss))\n",
    "c2 = get_weights(dataB[1], \"median_house_value\", ridge, dataB[0])\n",
    "\n",
    "error.append(kfolds.cross_validate(ridge, dataC[1], \"median_house_value\", quadratic_loss))\n",
    "c3 = get_weights(dataC[1], \"median_house_value\", ridge, dataC[0])\n",
    "\n",
    "error.append(kfolds.cross_validate(ridge, dataD[1], \"median_house_value\", quadratic_loss))\n",
    "c4 = get_weights(dataD[1], \"median_house_value\", ridge, dataD[0])\n",
    "\n",
    "error.append(kfolds.cross_validate(ridge, dataE[1], \"median_house_value\", quadratic_loss))\n",
    "c5 = get_weights(dataE[1], \"median_house_value\", ridge, dataD[0])\n",
    "\n",
    "a = pd.DataFrame(data=error, columns=['base'])\n",
    "a"
   ]
  },
  {
   "cell_type": "code",
   "execution_count": 7,
   "metadata": {},
   "outputs": [
    {
     "data": {
      "text/html": [
       "<div>\n",
       "<style scoped>\n",
       "    .dataframe tbody tr th:only-of-type {\n",
       "        vertical-align: middle;\n",
       "    }\n",
       "\n",
       "    .dataframe tbody tr th {\n",
       "        vertical-align: top;\n",
       "    }\n",
       "\n",
       "    .dataframe thead th {\n",
       "        text-align: right;\n",
       "    }\n",
       "</style>\n",
       "<table border=\"1\" class=\"dataframe\">\n",
       "  <thead>\n",
       "    <tr style=\"text-align: right;\">\n",
       "      <th></th>\n",
       "      <th>base</th>\n",
       "      <th>base no out</th>\n",
       "      <th>add features</th>\n",
       "      <th>log</th>\n",
       "      <th>log</th>\n",
       "    </tr>\n",
       "  </thead>\n",
       "  <tbody>\n",
       "    <tr>\n",
       "      <th>longitude</th>\n",
       "      <td>-0.477214</td>\n",
       "      <td>-0.520058</td>\n",
       "      <td>-0.533845</td>\n",
       "      <td>-0.617555</td>\n",
       "      <td>NaN</td>\n",
       "    </tr>\n",
       "    <tr>\n",
       "      <th>latitude</th>\n",
       "      <td>-0.540117</td>\n",
       "      <td>-0.604990</td>\n",
       "      <td>-0.616576</td>\n",
       "      <td>-0.737687</td>\n",
       "      <td>-0.091512</td>\n",
       "    </tr>\n",
       "    <tr>\n",
       "      <th>housing_median_age</th>\n",
       "      <td>0.125904</td>\n",
       "      <td>0.129755</td>\n",
       "      <td>0.130697</td>\n",
       "      <td>0.053765</td>\n",
       "      <td>0.153771</td>\n",
       "    </tr>\n",
       "    <tr>\n",
       "      <th>total_rooms</th>\n",
       "      <td>-0.137779</td>\n",
       "      <td>-0.216056</td>\n",
       "      <td>-0.118379</td>\n",
       "      <td>0.019291</td>\n",
       "      <td>0.083726</td>\n",
       "    </tr>\n",
       "    <tr>\n",
       "      <th>total_bedrooms</th>\n",
       "      <td>0.318260</td>\n",
       "      <td>0.396293</td>\n",
       "      <td>0.178236</td>\n",
       "      <td>0.067764</td>\n",
       "      <td>NaN</td>\n",
       "    </tr>\n",
       "    <tr>\n",
       "      <th>population</th>\n",
       "      <td>-0.381057</td>\n",
       "      <td>-0.389315</td>\n",
       "      <td>-0.382921</td>\n",
       "      <td>-0.062264</td>\n",
       "      <td>NaN</td>\n",
       "    </tr>\n",
       "    <tr>\n",
       "      <th>households</th>\n",
       "      <td>0.244004</td>\n",
       "      <td>0.251222</td>\n",
       "      <td>0.373118</td>\n",
       "      <td>0.002415</td>\n",
       "      <td>NaN</td>\n",
       "    </tr>\n",
       "    <tr>\n",
       "      <th>median_income</th>\n",
       "      <td>0.655237</td>\n",
       "      <td>0.627262</td>\n",
       "      <td>0.634343</td>\n",
       "      <td>0.629885</td>\n",
       "      <td>0.642970</td>\n",
       "    </tr>\n",
       "    <tr>\n",
       "      <th>ocean_proximity_INLAND</th>\n",
       "      <td>-0.203760</td>\n",
       "      <td>-0.207149</td>\n",
       "      <td>-0.195059</td>\n",
       "      <td>-0.255907</td>\n",
       "      <td>-0.397985</td>\n",
       "    </tr>\n",
       "    <tr>\n",
       "      <th>ocean_proximity_NEAR BAY</th>\n",
       "      <td>0.091470</td>\n",
       "      <td>0.075929</td>\n",
       "      <td>0.066946</td>\n",
       "      <td>0.167833</td>\n",
       "      <td>0.284838</td>\n",
       "    </tr>\n",
       "    <tr>\n",
       "      <th>ocean_proximity_NEAR OCEAN</th>\n",
       "      <td>0.043990</td>\n",
       "      <td>-0.036756</td>\n",
       "      <td>-0.040540</td>\n",
       "      <td>-0.046296</td>\n",
       "      <td>0.074745</td>\n",
       "    </tr>\n",
       "    <tr>\n",
       "      <th>rooms_per_household</th>\n",
       "      <td>NaN</td>\n",
       "      <td>NaN</td>\n",
       "      <td>0.048489</td>\n",
       "      <td>0.046339</td>\n",
       "      <td>0.010202</td>\n",
       "    </tr>\n",
       "    <tr>\n",
       "      <th>population_per_household</th>\n",
       "      <td>NaN</td>\n",
       "      <td>NaN</td>\n",
       "      <td>-0.011318</td>\n",
       "      <td>-0.176394</td>\n",
       "      <td>-0.137448</td>\n",
       "    </tr>\n",
       "    <tr>\n",
       "      <th>bedrooms_per_room</th>\n",
       "      <td>NaN</td>\n",
       "      <td>NaN</td>\n",
       "      <td>0.097780</td>\n",
       "      <td>0.137556</td>\n",
       "      <td>0.168190</td>\n",
       "    </tr>\n",
       "  </tbody>\n",
       "</table>\n",
       "</div>"
      ],
      "text/plain": [
       "                                base  base no out  add features       log  \\\n",
       "longitude                  -0.477214    -0.520058     -0.533845 -0.617555   \n",
       "latitude                   -0.540117    -0.604990     -0.616576 -0.737687   \n",
       "housing_median_age          0.125904     0.129755      0.130697  0.053765   \n",
       "total_rooms                -0.137779    -0.216056     -0.118379  0.019291   \n",
       "total_bedrooms              0.318260     0.396293      0.178236  0.067764   \n",
       "population                 -0.381057    -0.389315     -0.382921 -0.062264   \n",
       "households                  0.244004     0.251222      0.373118  0.002415   \n",
       "median_income               0.655237     0.627262      0.634343  0.629885   \n",
       "ocean_proximity_INLAND     -0.203760    -0.207149     -0.195059 -0.255907   \n",
       "ocean_proximity_NEAR BAY    0.091470     0.075929      0.066946  0.167833   \n",
       "ocean_proximity_NEAR OCEAN  0.043990    -0.036756     -0.040540 -0.046296   \n",
       "rooms_per_household              NaN          NaN      0.048489  0.046339   \n",
       "population_per_household         NaN          NaN     -0.011318 -0.176394   \n",
       "bedrooms_per_room                NaN          NaN      0.097780  0.137556   \n",
       "\n",
       "                                 log  \n",
       "longitude                        NaN  \n",
       "latitude                   -0.091512  \n",
       "housing_median_age          0.153771  \n",
       "total_rooms                 0.083726  \n",
       "total_bedrooms                   NaN  \n",
       "population                       NaN  \n",
       "households                       NaN  \n",
       "median_income               0.642970  \n",
       "ocean_proximity_INLAND     -0.397985  \n",
       "ocean_proximity_NEAR BAY    0.284838  \n",
       "ocean_proximity_NEAR OCEAN  0.074745  \n",
       "rooms_per_household         0.010202  \n",
       "population_per_household   -0.137448  \n",
       "bedrooms_per_room           0.168190  "
      ]
     },
     "execution_count": 7,
     "metadata": {},
     "output_type": "execute_result"
    }
   ],
   "source": [
    "tab = pd.concat([c1, c2, c3, c4, c5], axis = 1)\n",
    "tab"
   ]
  },
  {
   "cell_type": "code",
   "execution_count": 25,
   "metadata": {
    "scrolled": true
   },
   "outputs": [
    {
     "name": "stdout",
     "output_type": "stream",
     "text": [
      "base\n",
      "1e-08\t0.412220045641928\n",
      "0.0001\t0.41222004400736023\n",
      "0.001\t0.41222002929481727\n",
      "0.01\t0.41221988217367933\n",
      "1\t0.4122037462749799\n",
      "5\t0.41213948478427054\n",
      "10\t0.41206116582581664\n",
      "20\t0.4119106693193788\n",
      "50\t0.4115003572832315\n",
      "100\t0.41092104920134925\n",
      "best alfa:\t100\n",
      "mean:\t0.41196164738068114\n",
      "\n",
      "base no out\n",
      "1e-08\t0.45061967161614974\n",
      "0.0001\t0.4506196703266735\n",
      "0.001\t0.45061965872028753\n",
      "0.01\t0.4506195426619528\n",
      "1\t0.45060683720904954\n",
      "5\t0.45055668958990946\n",
      "10\t0.45049650223816134\n",
      "20\t0.4503834538362419\n",
      "50\t0.4500891640707285\n",
      "100\t0.44969711634560383\n",
      "best alfa:\t100\n",
      "mean:\t0.4504308306614758\n",
      "\n",
      "add features\n",
      "1e-08\t0.4424670118172649\n",
      "0.0001\t0.4424670086725695\n",
      "0.001\t0.44246698036763665\n",
      "0.01\t0.44246669733335664\n",
      "1\t0.4424357296636792\n",
      "5\t0.44231386764374686\n",
      "10\t0.4421684959472396\n",
      "20\t0.4418987000342198\n",
      "50\t0.4412238439106091\n",
      "100\t0.44040550981186116\n",
      "best alfa:\t100\n",
      "mean:\t0.4420313845202183\n",
      "\n",
      "log\n",
      "1e-08\t0.3719211101541576\n",
      "0.0001\t0.3719190757278787\n",
      "0.001\t0.3719190744040077\n",
      "0.01\t0.3719190614129533\n",
      "1\t0.37191775036072716\n",
      "5\t0.3719147183312741\n",
      "10\t0.3719157383734244\n",
      "20\t0.37193209747579464\n",
      "50\t0.37206962149726014\n",
      "100\t0.3724770208348873\n",
      "best alfa:\t5\n",
      "mean:\t0.3719905268572365\n",
      "\n",
      "removed\n",
      "1e-08\t0.45706108907032655\n",
      "0.0001\t0.4570610820774456\n",
      "0.001\t0.45706101913532327\n",
      "0.01\t0.4570603897244153\n",
      "1\t0.45699126885484803\n",
      "5\t0.45671428407180825\n",
      "10\t0.4563731484029738\n",
      "20\t0.4557074247371928\n",
      "50\t0.453834889472307\n",
      "100\t0.45108382229687155\n",
      "best alfa:\t100\n",
      "mean:\t0.4558948417843512\n",
      "\n"
     ]
    }
   ],
   "source": [
    "datasets = [dataA, dataB, dataC, dataD, dataE]\n",
    "\n",
    "for d in datasets:\n",
    "    print(d[0])\n",
    "    errors = []\n",
    "    for alfa in alfas:\n",
    "        ridge = RidgeRegression(alfa=alfa)\n",
    "        err = kfolds.cross_validate(ridge, d[1], \"median_house_value\", quadratic_loss)\n",
    "        print(\"{}\\t{}\".format(alfa, err))\n",
    "        errors.append(err)\n",
    "    min_value = min(errors)\n",
    "    idx_min = errors.index(min_value)\n",
    "    print(\"best alfa:\\t{}\".format(alfas[idx_min]))\n",
    "    print(\"mean:\\t{}\\n\".format(np.mean(errors)))"
   ]
  },
  {
   "cell_type": "code",
   "execution_count": null,
   "metadata": {},
   "outputs": [],
   "source": []
  },
  {
   "cell_type": "code",
   "execution_count": 9,
   "metadata": {},
   "outputs": [
    {
     "data": {
      "text/plain": [
       "[0, 1e-10, 1e-08, 1e-06, 0.0001, 0.001, 0.01, 1, 5, 10, 20, 100]"
      ]
     },
     "execution_count": 9,
     "metadata": {},
     "output_type": "execute_result"
    }
   ],
   "source": [
    "alfas"
   ]
  },
  {
   "cell_type": "code",
   "execution_count": 10,
   "metadata": {},
   "outputs": [
    {
     "data": {
      "text/html": [
       "<div>\n",
       "<style scoped>\n",
       "    .dataframe tbody tr th:only-of-type {\n",
       "        vertical-align: middle;\n",
       "    }\n",
       "\n",
       "    .dataframe tbody tr th {\n",
       "        vertical-align: top;\n",
       "    }\n",
       "\n",
       "    .dataframe thead th {\n",
       "        text-align: right;\n",
       "    }\n",
       "</style>\n",
       "<table border=\"1\" class=\"dataframe\">\n",
       "  <thead>\n",
       "    <tr style=\"text-align: right;\">\n",
       "      <th></th>\n",
       "      <th>0</th>\n",
       "      <th>1</th>\n",
       "      <th>2</th>\n",
       "      <th>3</th>\n",
       "      <th>4</th>\n",
       "      <th>5</th>\n",
       "      <th>6</th>\n",
       "      <th>7</th>\n",
       "      <th>8</th>\n",
       "      <th>9</th>\n",
       "      <th>10</th>\n",
       "      <th>11</th>\n",
       "      <th>12</th>\n",
       "      <th>13</th>\n",
       "    </tr>\n",
       "  </thead>\n",
       "  <tbody>\n",
       "    <tr>\n",
       "      <th>0.000000e+00</th>\n",
       "      <td>-0.608976</td>\n",
       "      <td>-0.722232</td>\n",
       "      <td>0.018100</td>\n",
       "      <td>-23.232617</td>\n",
       "      <td>103.833254</td>\n",
       "      <td>-94.718917</td>\n",
       "      <td>12.199534</td>\n",
       "      <td>0.629885</td>\n",
       "      <td>-30.626346</td>\n",
       "      <td>34.450108</td>\n",
       "      <td>-35.872407</td>\n",
       "      <td>-0.255906</td>\n",
       "      <td>0.167833</td>\n",
       "      <td>-0.046296</td>\n",
       "    </tr>\n",
       "    <tr>\n",
       "      <th>1.000000e-10</th>\n",
       "      <td>-0.617981</td>\n",
       "      <td>-0.737131</td>\n",
       "      <td>0.053374</td>\n",
       "      <td>0.282019</td>\n",
       "      <td>-0.503966</td>\n",
       "      <td>0.142644</td>\n",
       "      <td>0.118887</td>\n",
       "      <td>0.629885</td>\n",
       "      <td>0.165146</td>\n",
       "      <td>-0.250316</td>\n",
       "      <td>0.337365</td>\n",
       "      <td>-0.255906</td>\n",
       "      <td>0.167833</td>\n",
       "      <td>-0.046296</td>\n",
       "    </tr>\n",
       "    <tr>\n",
       "      <th>1.000000e-08</th>\n",
       "      <td>-0.617578</td>\n",
       "      <td>-0.737714</td>\n",
       "      <td>0.053751</td>\n",
       "      <td>0.021717</td>\n",
       "      <td>0.062125</td>\n",
       "      <td>-0.060247</td>\n",
       "      <td>0.003709</td>\n",
       "      <td>0.629885</td>\n",
       "      <td>0.047588</td>\n",
       "      <td>-0.177144</td>\n",
       "      <td>0.139512</td>\n",
       "      <td>-0.255906</td>\n",
       "      <td>0.167833</td>\n",
       "      <td>-0.046296</td>\n",
       "    </tr>\n",
       "    <tr>\n",
       "      <th>1.000000e-06</th>\n",
       "      <td>-0.617557</td>\n",
       "      <td>-0.737689</td>\n",
       "      <td>0.053765</td>\n",
       "      <td>0.019314</td>\n",
       "      <td>0.067707</td>\n",
       "      <td>-0.062243</td>\n",
       "      <td>0.002429</td>\n",
       "      <td>0.629885</td>\n",
       "      <td>0.046352</td>\n",
       "      <td>-0.176402</td>\n",
       "      <td>0.137576</td>\n",
       "      <td>-0.255906</td>\n",
       "      <td>0.167833</td>\n",
       "      <td>-0.046296</td>\n",
       "    </tr>\n",
       "    <tr>\n",
       "      <th>1.000000e-04</th>\n",
       "      <td>-0.617557</td>\n",
       "      <td>-0.737689</td>\n",
       "      <td>0.053765</td>\n",
       "      <td>0.019291</td>\n",
       "      <td>0.067764</td>\n",
       "      <td>-0.062264</td>\n",
       "      <td>0.002415</td>\n",
       "      <td>0.629885</td>\n",
       "      <td>0.046339</td>\n",
       "      <td>-0.176395</td>\n",
       "      <td>0.137557</td>\n",
       "      <td>-0.255906</td>\n",
       "      <td>0.167833</td>\n",
       "      <td>-0.046296</td>\n",
       "    </tr>\n",
       "    <tr>\n",
       "      <th>1.000000e-03</th>\n",
       "      <td>-0.617555</td>\n",
       "      <td>-0.737687</td>\n",
       "      <td>0.053765</td>\n",
       "      <td>0.019291</td>\n",
       "      <td>0.067764</td>\n",
       "      <td>-0.062264</td>\n",
       "      <td>0.002415</td>\n",
       "      <td>0.629885</td>\n",
       "      <td>0.046339</td>\n",
       "      <td>-0.176394</td>\n",
       "      <td>0.137556</td>\n",
       "      <td>-0.255907</td>\n",
       "      <td>0.167833</td>\n",
       "      <td>-0.046296</td>\n",
       "    </tr>\n",
       "    <tr>\n",
       "      <th>1.000000e-02</th>\n",
       "      <td>-0.617540</td>\n",
       "      <td>-0.737673</td>\n",
       "      <td>0.053765</td>\n",
       "      <td>0.019290</td>\n",
       "      <td>0.067764</td>\n",
       "      <td>-0.062264</td>\n",
       "      <td>0.002416</td>\n",
       "      <td>0.629885</td>\n",
       "      <td>0.046337</td>\n",
       "      <td>-0.176394</td>\n",
       "      <td>0.137555</td>\n",
       "      <td>-0.255912</td>\n",
       "      <td>0.167837</td>\n",
       "      <td>-0.046293</td>\n",
       "    </tr>\n",
       "    <tr>\n",
       "      <th>1.000000e+00</th>\n",
       "      <td>-0.615911</td>\n",
       "      <td>-0.736053</td>\n",
       "      <td>0.053827</td>\n",
       "      <td>0.019275</td>\n",
       "      <td>0.067715</td>\n",
       "      <td>-0.062219</td>\n",
       "      <td>0.002458</td>\n",
       "      <td>0.629931</td>\n",
       "      <td>0.046181</td>\n",
       "      <td>-0.176388</td>\n",
       "      <td>0.137459</td>\n",
       "      <td>-0.256482</td>\n",
       "      <td>0.168242</td>\n",
       "      <td>-0.046020</td>\n",
       "    </tr>\n",
       "    <tr>\n",
       "      <th>5.000000e+00</th>\n",
       "      <td>-0.609430</td>\n",
       "      <td>-0.729612</td>\n",
       "      <td>0.054071</td>\n",
       "      <td>0.019214</td>\n",
       "      <td>0.067518</td>\n",
       "      <td>-0.062041</td>\n",
       "      <td>0.002629</td>\n",
       "      <td>0.630107</td>\n",
       "      <td>0.045558</td>\n",
       "      <td>-0.176365</td>\n",
       "      <td>0.137074</td>\n",
       "      <td>-0.258746</td>\n",
       "      <td>0.169840</td>\n",
       "      <td>-0.044931</td>\n",
       "    </tr>\n",
       "    <tr>\n",
       "      <th>1.000000e+01</th>\n",
       "      <td>-0.601551</td>\n",
       "      <td>-0.721779</td>\n",
       "      <td>0.054370</td>\n",
       "      <td>0.019140</td>\n",
       "      <td>0.067276</td>\n",
       "      <td>-0.061823</td>\n",
       "      <td>0.002838</td>\n",
       "      <td>0.630313</td>\n",
       "      <td>0.044798</td>\n",
       "      <td>-0.176337</td>\n",
       "      <td>0.136598</td>\n",
       "      <td>-0.261490</td>\n",
       "      <td>0.171759</td>\n",
       "      <td>-0.043609</td>\n",
       "    </tr>\n",
       "    <tr>\n",
       "      <th>2.000000e+01</th>\n",
       "      <td>-0.586492</td>\n",
       "      <td>-0.706800</td>\n",
       "      <td>0.054945</td>\n",
       "      <td>0.019000</td>\n",
       "      <td>0.066807</td>\n",
       "      <td>-0.061404</td>\n",
       "      <td>0.003242</td>\n",
       "      <td>0.630680</td>\n",
       "      <td>0.043338</td>\n",
       "      <td>-0.176286</td>\n",
       "      <td>0.135664</td>\n",
       "      <td>-0.266708</td>\n",
       "      <td>0.175353</td>\n",
       "      <td>-0.041085</td>\n",
       "    </tr>\n",
       "    <tr>\n",
       "      <th>1.000000e+02</th>\n",
       "      <td>-0.491851</td>\n",
       "      <td>-0.612376</td>\n",
       "      <td>0.058739</td>\n",
       "      <td>0.018195</td>\n",
       "      <td>0.063611</td>\n",
       "      <td>-0.058633</td>\n",
       "      <td>0.005952</td>\n",
       "      <td>0.631971</td>\n",
       "      <td>0.033902</td>\n",
       "      <td>-0.176064</td>\n",
       "      <td>0.128866</td>\n",
       "      <td>-0.298487</td>\n",
       "      <td>0.195193</td>\n",
       "      <td>-0.025381</td>\n",
       "    </tr>\n",
       "  </tbody>\n",
       "</table>\n",
       "</div>"
      ],
      "text/plain": [
       "                     0         1         2          3           4          5  \\\n",
       "0.000000e+00 -0.608976 -0.722232  0.018100 -23.232617  103.833254 -94.718917   \n",
       "1.000000e-10 -0.617981 -0.737131  0.053374   0.282019   -0.503966   0.142644   \n",
       "1.000000e-08 -0.617578 -0.737714  0.053751   0.021717    0.062125  -0.060247   \n",
       "1.000000e-06 -0.617557 -0.737689  0.053765   0.019314    0.067707  -0.062243   \n",
       "1.000000e-04 -0.617557 -0.737689  0.053765   0.019291    0.067764  -0.062264   \n",
       "1.000000e-03 -0.617555 -0.737687  0.053765   0.019291    0.067764  -0.062264   \n",
       "1.000000e-02 -0.617540 -0.737673  0.053765   0.019290    0.067764  -0.062264   \n",
       "1.000000e+00 -0.615911 -0.736053  0.053827   0.019275    0.067715  -0.062219   \n",
       "5.000000e+00 -0.609430 -0.729612  0.054071   0.019214    0.067518  -0.062041   \n",
       "1.000000e+01 -0.601551 -0.721779  0.054370   0.019140    0.067276  -0.061823   \n",
       "2.000000e+01 -0.586492 -0.706800  0.054945   0.019000    0.066807  -0.061404   \n",
       "1.000000e+02 -0.491851 -0.612376  0.058739   0.018195    0.063611  -0.058633   \n",
       "\n",
       "                      6         7          8          9         10        11  \\\n",
       "0.000000e+00  12.199534  0.629885 -30.626346  34.450108 -35.872407 -0.255906   \n",
       "1.000000e-10   0.118887  0.629885   0.165146  -0.250316   0.337365 -0.255906   \n",
       "1.000000e-08   0.003709  0.629885   0.047588  -0.177144   0.139512 -0.255906   \n",
       "1.000000e-06   0.002429  0.629885   0.046352  -0.176402   0.137576 -0.255906   \n",
       "1.000000e-04   0.002415  0.629885   0.046339  -0.176395   0.137557 -0.255906   \n",
       "1.000000e-03   0.002415  0.629885   0.046339  -0.176394   0.137556 -0.255907   \n",
       "1.000000e-02   0.002416  0.629885   0.046337  -0.176394   0.137555 -0.255912   \n",
       "1.000000e+00   0.002458  0.629931   0.046181  -0.176388   0.137459 -0.256482   \n",
       "5.000000e+00   0.002629  0.630107   0.045558  -0.176365   0.137074 -0.258746   \n",
       "1.000000e+01   0.002838  0.630313   0.044798  -0.176337   0.136598 -0.261490   \n",
       "2.000000e+01   0.003242  0.630680   0.043338  -0.176286   0.135664 -0.266708   \n",
       "1.000000e+02   0.005952  0.631971   0.033902  -0.176064   0.128866 -0.298487   \n",
       "\n",
       "                    12        13  \n",
       "0.000000e+00  0.167833 -0.046296  \n",
       "1.000000e-10  0.167833 -0.046296  \n",
       "1.000000e-08  0.167833 -0.046296  \n",
       "1.000000e-06  0.167833 -0.046296  \n",
       "1.000000e-04  0.167833 -0.046296  \n",
       "1.000000e-03  0.167833 -0.046296  \n",
       "1.000000e-02  0.167837 -0.046293  \n",
       "1.000000e+00  0.168242 -0.046020  \n",
       "5.000000e+00  0.169840 -0.044931  \n",
       "1.000000e+01  0.171759 -0.043609  \n",
       "2.000000e+01  0.175353 -0.041085  \n",
       "1.000000e+02  0.195193 -0.025381  "
      ]
     },
     "execution_count": 10,
     "metadata": {},
     "output_type": "execute_result"
    }
   ],
   "source": [
    "weights = []\n",
    "for alfa in alfas:\n",
    "    ridge = RidgeRegression(alfa=alfa)\n",
    "    err = kfolds.cross_validate(ridge, dataD[1], \"median_house_value\", quadratic_loss)\n",
    "    weights.append(ridge.get_weight())\n",
    "tab = pd.DataFrame(weights, index=alfas)\n",
    "tab"
   ]
  },
  {
   "cell_type": "code",
   "execution_count": 11,
   "metadata": {},
   "outputs": [
    {
     "name": "stderr",
     "output_type": "stream",
     "text": [
      "C:\\Users\\Nicolas Facchinetti\\.conda\\envs\\tf-gpu\\lib\\site-packages\\ipykernel_launcher.py:7: UserWarning: Attempted to set non-positive left xlim on a log-scaled axis.\n",
      "Invalid limit will be ignored.\n",
      "  import sys\n"
     ]
    },
    {
     "data": {
      "image/png": "[encoded data removed]",
      "text/plain": [
       "<Figure size 720x504 with 1 Axes>"
      ]
     },
     "metadata": {
      "needs_background": "light"
     },
     "output_type": "display_data"
    }
   ],
   "source": [
    "l = range(1, len(weights))\n",
    "plt.figure(figsize=(10,7))\n",
    "ax = plt.gca()\n",
    "ax.plot(alfas, weights, label=l)\n",
    "ax.set_xscale('log')\n",
    "plt.ylim([-1, +1])\n",
    "plt.xlim([min(alfas), max(alfas)])\n",
    "plt.xlabel('alpha')\n",
    "plt.ylabel('weights')\n",
    "plt.title('Ridge coefficients as a function of the regularization')\n",
    "#plt.axis('tight')\n",
    "plt.show()"
   ]
  },
  {
   "cell_type": "code",
   "execution_count": 12,
   "metadata": {},
   "outputs": [
    {
     "data": {
      "text/plain": [
       "[0.3371583476073152,\n",
       " 0.3183157724899719,\n",
       " 0.3182575219503334,\n",
       " 0.3182575185365696,\n",
       " 0.31825751853595846,\n",
       " 0.3182575185360723,\n",
       " 0.31825751854738954,\n",
       " 0.31825763232633936,\n",
       " 0.31826030964322527,\n",
       " 0.318268423959082,\n",
       " 0.3182991835986401,\n",
       " 0.3190107312690686]"
      ]
     },
     "execution_count": 12,
     "metadata": {},
     "output_type": "execute_result"
    }
   ],
   "source": [
    "train = []\n",
    "test = []\n",
    "for alfa in alfas:\n",
    "    ridge = RidgeRegression(alfa=alfa)\n",
    "    err = kfolds.get_train_test_accuracy(ridge, dataD[1], \"median_house_value\", quadratic_loss)\n",
    "    train.append(err[0])\n",
    "    test.append(err[1])\n",
    "train"
   ]
  },
  {
   "cell_type": "code",
   "execution_count": 13,
   "metadata": {},
   "outputs": [
    {
     "data": {
      "text/plain": [
       "[0.39738518103469556,\n",
       " 0.3777541192227551,\n",
       " 0.3779673516051121,\n",
       " 0.37796343127278254,\n",
       " 0.37796343896488305,\n",
       " 0.3779634341037148,\n",
       " 0.3779633854673482,\n",
       " 0.3779581459289434,\n",
       " 0.3779390910899121,\n",
       " 0.3779197737407214,\n",
       " 0.377894597824008,\n",
       " 0.37809154200462375]"
      ]
     },
     "execution_count": 13,
     "metadata": {},
     "output_type": "execute_result"
    }
   ],
   "source": [
    "test"
   ]
  },
  {
   "cell_type": "code",
   "execution_count": 14,
   "metadata": {},
   "outputs": [
    {
     "data": {
      "image/png": "[encoded data removed]",
      "text/plain": [
       "<Figure size 432x288 with 1 Axes>"
      ]
     },
     "metadata": {
      "needs_background": "light"
     },
     "output_type": "display_data"
    }
   ],
   "source": [
    "plt.title(\"Validation Curve\")\n",
    "plt.xlabel(\"Alfa\")\n",
    "plt.ylabel(\"Score\")\n",
    "param_range = alfas\n",
    "lw = 2\n",
    "#plt.semilogx(alfas, train, label=\"Train score\", color=\"green\", lw=lw)\n",
    "plt.semilogx(param_range, test, label=\"Cross-validation score\", color=\"navy\", lw=lw)\n",
    "plt.legend(loc=\"best\")\n",
    "plt.show()"
   ]
  },
  {
   "cell_type": "markdown",
   "metadata": {},
   "source": [
    "## Proviamo con PCA "
   ]
  },
  {
   "cell_type": "code",
   "execution_count": 15,
   "metadata": {},
   "outputs": [
    {
     "data": {
      "text/plain": [
       "0.4997657500181264"
      ]
     },
     "execution_count": 15,
     "metadata": {},
     "output_type": "execute_result"
    }
   ],
   "source": [
    "dataPCA = pd.read_pickle(\"./pca.pkl\")\n",
    "errors = kfolds.cross_validate(ridge, dataPCA, \"median_house_value\", quadratic_loss)\n",
    "errors"
   ]
  },
  {
   "cell_type": "markdown",
   "metadata": {},
   "source": [
    "## Proviamo a fare una stima migliore dell'errore con Nested CV"
   ]
  },
  {
   "cell_type": "markdown",
   "metadata": {},
   "source": [
    "Definiamo il numero di fold interni ed esterni e l'insieme di parametri"
   ]
  },
  {
   "cell_type": "code",
   "execution_count": 16,
   "metadata": {},
   "outputs": [],
   "source": [
    "internal_folds = 3\n",
    "nestedKFolds = NestedCV(folds, internal_folds)\n",
    "alfas = [1e-8, 1e-4, 1e-3, 1e-2, 1, 5, 10, 20, 50, 100]"
   ]
  },
  {
   "cell_type": "markdown",
   "metadata": {},
   "source": [
    "Facciamo la stima dell'errore con Nested Cross Validation"
   ]
  },
  {
   "cell_type": "code",
   "execution_count": 17,
   "metadata": {},
   "outputs": [
    {
     "ename": "FileNotFoundError",
     "evalue": "[Errno 2] No such file or directory: './elaborated_log_norm.pkl'",
     "output_type": "error",
     "traceback": [
      "\u001b[1;31m---------------------------------------------------------------------------\u001b[0m",
      "\u001b[1;31mFileNotFoundError\u001b[0m                         Traceback (most recent call last)",
      "\u001b[1;32m<ipython-input-17-7981e72c6ab7>\u001b[0m in \u001b[0;36m<module>\u001b[1;34m\u001b[0m\n\u001b[1;32m----> 1\u001b[1;33m \u001b[0merror\u001b[0m \u001b[1;33m=\u001b[0m \u001b[0mnestedKFolds\u001b[0m\u001b[1;33m.\u001b[0m\u001b[0mcross_validate\u001b[0m\u001b[1;33m(\u001b[0m\u001b[0mRidgeRegression\u001b[0m\u001b[1;33m,\u001b[0m \u001b[0mpd\u001b[0m\u001b[1;33m.\u001b[0m\u001b[0mread_pickle\u001b[0m\u001b[1;33m(\u001b[0m\u001b[1;34m\"./elaborated_log_norm.pkl\"\u001b[0m\u001b[1;33m)\u001b[0m\u001b[1;33m,\u001b[0m \u001b[1;34m\"median_house_value\"\u001b[0m\u001b[1;33m,\u001b[0m \u001b[0mquadratic_loss\u001b[0m\u001b[1;33m,\u001b[0m \u001b[0malfas\u001b[0m\u001b[1;33m)\u001b[0m\u001b[1;33m\u001b[0m\u001b[1;33m\u001b[0m\u001b[0m\n\u001b[0m\u001b[0;32m      2\u001b[0m \u001b[0merror\u001b[0m\u001b[1;33m\u001b[0m\u001b[1;33m\u001b[0m\u001b[0m\n",
      "\u001b[1;32m~\\AppData\\Roaming\\Python\\Python37\\site-packages\\pandas\\io\\pickle.py\u001b[0m in \u001b[0;36mread_pickle\u001b[1;34m(filepath_or_buffer, compression)\u001b[0m\n\u001b[0;32m    168\u001b[0m     \u001b[1;32mif\u001b[0m \u001b[1;32mnot\u001b[0m \u001b[0misinstance\u001b[0m\u001b[1;33m(\u001b[0m\u001b[0mfp_or_buf\u001b[0m\u001b[1;33m,\u001b[0m \u001b[0mstr\u001b[0m\u001b[1;33m)\u001b[0m \u001b[1;32mand\u001b[0m \u001b[0mcompression\u001b[0m \u001b[1;33m==\u001b[0m \u001b[1;34m\"infer\"\u001b[0m\u001b[1;33m:\u001b[0m\u001b[1;33m\u001b[0m\u001b[1;33m\u001b[0m\u001b[0m\n\u001b[0;32m    169\u001b[0m         \u001b[0mcompression\u001b[0m \u001b[1;33m=\u001b[0m \u001b[1;32mNone\u001b[0m\u001b[1;33m\u001b[0m\u001b[1;33m\u001b[0m\u001b[0m\n\u001b[1;32m--> 170\u001b[1;33m     \u001b[0mf\u001b[0m\u001b[1;33m,\u001b[0m \u001b[0mfh\u001b[0m \u001b[1;33m=\u001b[0m \u001b[0mget_handle\u001b[0m\u001b[1;33m(\u001b[0m\u001b[0mfp_or_buf\u001b[0m\u001b[1;33m,\u001b[0m \u001b[1;34m\"rb\"\u001b[0m\u001b[1;33m,\u001b[0m \u001b[0mcompression\u001b[0m\u001b[1;33m=\u001b[0m\u001b[0mcompression\u001b[0m\u001b[1;33m,\u001b[0m \u001b[0mis_text\u001b[0m\u001b[1;33m=\u001b[0m\u001b[1;32mFalse\u001b[0m\u001b[1;33m)\u001b[0m\u001b[1;33m\u001b[0m\u001b[1;33m\u001b[0m\u001b[0m\n\u001b[0m\u001b[0;32m    171\u001b[0m \u001b[1;33m\u001b[0m\u001b[0m\n\u001b[0;32m    172\u001b[0m     \u001b[1;31m# 1) try standard library Pickle\u001b[0m\u001b[1;33m\u001b[0m\u001b[1;33m\u001b[0m\u001b[1;33m\u001b[0m\u001b[0m\n",
      "\u001b[1;32m~\\AppData\\Roaming\\Python\\Python37\\site-packages\\pandas\\io\\common.py\u001b[0m in \u001b[0;36mget_handle\u001b[1;34m(path_or_buf, mode, encoding, compression, memory_map, is_text)\u001b[0m\n\u001b[0;32m    459\u001b[0m         \u001b[1;32melse\u001b[0m\u001b[1;33m:\u001b[0m\u001b[1;33m\u001b[0m\u001b[1;33m\u001b[0m\u001b[0m\n\u001b[0;32m    460\u001b[0m             \u001b[1;31m# Binary mode\u001b[0m\u001b[1;33m\u001b[0m\u001b[1;33m\u001b[0m\u001b[1;33m\u001b[0m\u001b[0m\n\u001b[1;32m--> 461\u001b[1;33m             \u001b[0mf\u001b[0m \u001b[1;33m=\u001b[0m \u001b[0mopen\u001b[0m\u001b[1;33m(\u001b[0m\u001b[0mpath_or_buf\u001b[0m\u001b[1;33m,\u001b[0m \u001b[0mmode\u001b[0m\u001b[1;33m)\u001b[0m\u001b[1;33m\u001b[0m\u001b[1;33m\u001b[0m\u001b[0m\n\u001b[0m\u001b[0;32m    462\u001b[0m         \u001b[0mhandles\u001b[0m\u001b[1;33m.\u001b[0m\u001b[0mappend\u001b[0m\u001b[1;33m(\u001b[0m\u001b[0mf\u001b[0m\u001b[1;33m)\u001b[0m\u001b[1;33m\u001b[0m\u001b[1;33m\u001b[0m\u001b[0m\n\u001b[0;32m    463\u001b[0m \u001b[1;33m\u001b[0m\u001b[0m\n",
      "\u001b[1;31mFileNotFoundError\u001b[0m: [Errno 2] No such file or directory: './elaborated_log_norm.pkl'"
     ]
    }
   ],
   "source": [
    "error = nestedKFolds.cross_validate(RidgeRegression, pd.read_pickle(\"./elaborated_log_norm.pkl\"), \"median_house_value\", quadratic_loss, alfas)\n",
    "error"
   ]
  }
 ],
 "metadata": {
  "kernelspec": {
   "display_name": "Python 3.7.7 64-bit ('tf-gpu': conda)",
   "language": "python",
   "name": "python37764bittfgpuconda69e5dcd644e74d2bbdb17a00c65db70c"
  },
  "language_info": {
   "codemirror_mode": {
    "name": "ipython",
    "version": 3
   },
   "file_extension": ".py",
   "mimetype": "text/x-python",
   "name": "python",
   "nbconvert_exporter": "python",
   "pygments_lexer": "ipython3",
   "version": "3.7.7"
  }
 },
 "nbformat": 4,
 "nbformat_minor": 2
}
