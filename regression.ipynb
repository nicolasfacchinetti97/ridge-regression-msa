{
 "cells": [
  {
   "cell_type": "code",
   "execution_count": 1,
   "metadata": {
    "tags": []
   },
   "outputs": [],
   "source": [
    "import pandas as pd\n",
    "import numpy as np\n",
    "import matplotlib.pyplot as plt\n",
    "\n",
    "from model import RidgeRegression\n",
    "from selection import KFoldCV, NestedCV"
   ]
  },
  {
   "cell_type": "markdown",
   "metadata": {},
   "source": [
    "## Procediamo a fare il training e valutiamo i risultati con cross validation"
   ]
  },
  {
   "cell_type": "markdown",
   "metadata": {},
   "source": [
    "Carichiamo il dataset elaborato ottenuto dal notebook elaboration e definiamo la funzione di perdita"
   ]
  },
  {
   "cell_type": "code",
   "execution_count": 8,
   "metadata": {},
   "outputs": [],
   "source": [
    "data = pd.read_pickle(\"./elaborated.pkl\")\n",
    "\n",
    "def quadratic_loss(y_true, y_pred):\n",
    "    return (y_true-y_pred)**2"
   ]
  },
  {
   "cell_type": "markdown",
   "metadata": {},
   "source": [
    "Definiamo il numero di fold e l'insieme di iperparemtri"
   ]
  },
  {
   "cell_type": "code",
   "execution_count": 3,
   "metadata": {},
   "outputs": [],
   "source": [
    "folds = 5\n",
    "kfolds = KFoldCV(folds, print=True)\n",
    "alfas = [1e-15, 1e-10, 1e-8, 1e-4, 1e-3, 1e-3, 1e-2, 1, 5, 10, 20]"
   ]
  },
  {
   "cell_type": "markdown",
   "metadata": {},
   "source": [
    "Facciamo training del modello di regressione e valutiamo i risultati con cross validation"
   ]
  },
  {
   "cell_type": "code",
   "execution_count": 4,
   "metadata": {
    "tags": []
   },
   "outputs": [
    {
     "name": "stdout",
     "output_type": "stream",
     "text": [
      "Scaled error: 0.3396101726585715\n",
      "Scaled error: 0.2638307730922857\n",
      "Scaled error: 0.2749928451841993\n",
      "Scaled error: 0.3307028827419799\n",
      "Scaled error: 0.24656161606157598\n"
     ]
    },
    {
     "data": {
      "text/plain": [
       "0.2911396579477225"
      ]
     },
     "execution_count": 4,
     "metadata": {},
     "output_type": "execute_result"
    }
   ],
   "source": [
    "ridge = RidgeRegression(alfa=20)\n",
    "\n",
    "errors = kfolds.cross_validate(ridge, data, \"median_house_value\", quadratic_loss)\n",
    "errors"
   ]
  },
  {
   "cell_type": "markdown",
   "metadata": {},
   "source": [
    "## Proviamo a fare una stima migliore dell'errore con Nested CV"
   ]
  },
  {
   "cell_type": "markdown",
   "metadata": {},
   "source": [
    "Definiamo il numero di fold interni ed esterni e l'insieme di parametri"
   ]
  },
  {
   "cell_type": "code",
   "execution_count": 5,
   "metadata": {},
   "outputs": [
    {
     "name": "stdout",
     "output_type": "stream",
     "text": [
      "External fold num: 0\n",
      "Testing with value 1e-08 with error : 0.29434623036380425\n",
      "Testing with value 0.0001 with error : 0.2943510921640654\n",
      "Testing with value 0.001 with error : 0.2943510660529279\n",
      "Testing with value 0.01 with error : 0.2943508091583442\n",
      "Testing with value 1 with error : 0.29432344756071377\n",
      "Testing with value 5 with error : 0.294230090677546\n",
      "Testing with value 10 with error : 0.29414872751751747\n",
      "Testing with value 20 with error : 0.29408503190415064\n",
      "Testing with value 50 with error : 0.29443323724925685\n",
      "Testing with value 100 with error : 0.2958779082556583\n",
      "The best parameter on interal folds is 20.0, with error on external fold: 0.3396101726585715\n",
      "\n",
      "External fold num: 1\n",
      "Testing with value 1e-08 with error : 0.3189583152749174\n",
      "Testing with value 0.0001 with error : 0.3189685004807108\n",
      "Testing with value 0.001 with error : 0.3189685210337738\n",
      "Testing with value 0.01 with error : 0.31896872836035645\n",
      "Testing with value 1 with error : 0.31899170766045193\n",
      "Testing with value 5 with error : 0.3190880158374394\n",
      "Testing with value 10 with error : 0.3192156417844344\n",
      "Testing with value 20 with error : 0.31949180553999157\n",
      "Testing with value 50 with error : 0.32043995475346404\n",
      "Testing with value 100 with error : 0.32221678738614207\n",
      "The best parameter on interal folds is 1e-08, with error on external fold: 0.26316830224195525\n",
      "\n",
      "External fold num: 2\n",
      "Testing with value 1e-08 with error : 0.31522523578588446\n",
      "Testing with value 0.0001 with error : 0.3152087503727836\n",
      "Testing with value 0.001 with error : 0.3152087508987396\n",
      "Testing with value 0.01 with error : 0.31520876407489157\n",
      "Testing with value 1 with error : 0.31521087122628566\n",
      "Testing with value 5 with error : 0.31523209996343016\n",
      "Testing with value 10 with error : 0.3152849747981765\n",
      "Testing with value 20 with error : 0.31546556435362194\n",
      "Testing with value 50 with error : 0.3164240073194202\n",
      "Testing with value 100 with error : 0.31869672294860296\n",
      "The best parameter on interal folds is 0.0001, with error on external fold: 0.2759903271660173\n",
      "\n",
      "External fold num: 3\n",
      "Testing with value 1e-08 with error : 0.2832855560630195\n",
      "Testing with value 0.0001 with error : 0.2832840403686097\n",
      "Testing with value 0.001 with error : 0.28328404302840976\n",
      "Testing with value 0.01 with error : 0.2832840704208548\n",
      "Testing with value 1 with error : 0.2832873519858186\n",
      "Testing with value 5 with error : 0.2833057689587911\n",
      "Testing with value 10 with error : 0.2833395917322038\n",
      "Testing with value 20 with error : 0.28343856868663503\n",
      "Testing with value 50 with error : 0.28391837550342724\n",
      "Testing with value 100 with error : 0.285047517077717\n",
      "The best parameter on interal folds is 0.0001, with error on external fold: 0.3288113953765336\n",
      "\n",
      "External fold num: 4\n",
      "Testing with value 1e-08 with error : 0.32723657025789527\n",
      "Testing with value 0.0001 with error : 0.3272337331704803\n",
      "Testing with value 0.001 with error : 0.3272337862610535\n",
      "Testing with value 0.01 with error : 0.3272343109293673\n",
      "Testing with value 1 with error : 0.3272922304660969\n",
      "Testing with value 5 with error : 0.3275302848459812\n",
      "Testing with value 10 with error : 0.32783558692925857\n",
      "Testing with value 20 with error : 0.32846468590299743\n",
      "Testing with value 50 with error : 0.3304073078183716\n",
      "Testing with value 100 with error : 0.33353229838847165\n",
      "The best parameter on interal folds is 0.0001, with error on external fold: 0.24682284730536155\n",
      "\n"
     ]
    },
    {
     "data": {
      "text/plain": [
       "0.2908806089496878"
      ]
     },
     "execution_count": 5,
     "metadata": {},
     "output_type": "execute_result"
    }
   ],
   "source": [
    "internal_folds = 3\n",
    "nestedKFolds = NestedCV(folds, internal_folds)\n",
    "alfas = [1e-8, 1e-4, 1e-3, 1e-2, 1, 5, 10, 20, 50, 100]"
   ]
  },
  {
   "cell_type": "markdown",
   "metadata": {},
   "source": [
    "Facciamo la stima dell'errore con Nested Cross Validation"
   ]
  },
  {
   "cell_type": "code",
   "execution_count": null,
   "metadata": {},
   "outputs": [],
   "source": [
    "error = nestedKFolds.cross_validate(RidgeRegression, data, \"median_house_value\", quadratic_loss, alfas)\n",
    "error"
   ]
  }
 ],
 "metadata": {
  "kernelspec": {
   "display_name": "Python 3.7.7 64-bit ('tf-gpu': conda)",
   "language": "python",
   "name": "python37764bittfgpuconda69e5dcd644e74d2bbdb17a00c65db70c"
  },
  "language_info": {
   "codemirror_mode": {
    "name": "ipython",
    "version": 3
   },
   "file_extension": ".py",
   "mimetype": "text/x-python",
   "name": "python",
   "nbconvert_exporter": "python",
   "pygments_lexer": "ipython3",
   "version": "3.7.7"
  }
 },
 "nbformat": 4,
 "nbformat_minor": 2
}
