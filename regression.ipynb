{
 "cells": [
  {
   "cell_type": "code",
   "execution_count": 1,
   "metadata": {
    "tags": []
   },
   "outputs": [],
   "source": [
    "import pandas as pd\n",
    "import numpy as np\n",
    "import matplotlib.pyplot as plt\n",
    "\n",
    "from model import RidgeRegression\n",
    "from selection import KFoldCV, NestedCV"
   ]
  },
  {
   "cell_type": "markdown",
   "metadata": {},
   "source": [
    "## Procediamo a fare il training e valutiamo i risultati con cross validation"
   ]
  },
  {
   "cell_type": "markdown",
   "metadata": {},
   "source": [
    "Carichiamo il dataset elaborato ottenuto dal notebook elaboration e definiamo la funzione di perdita"
   ]
  },
  {
   "cell_type": "code",
   "execution_count": 2,
   "metadata": {},
   "outputs": [],
   "source": [
    "data = pd.read_pickle(\"./elaborated.pkl\")\n",
    "\n",
    "def quadratic_loss(y_true, y_pred):\n",
    "    return (y_true-y_pred)**2"
   ]
  },
  {
   "cell_type": "markdown",
   "metadata": {},
   "source": [
    "Definiamo il numero di fold e l'insieme di iperparemtri"
   ]
  },
  {
   "cell_type": "code",
   "execution_count": 3,
   "metadata": {},
   "outputs": [],
   "source": [
    "folds = 5\n",
    "kfolds = KFoldCV(folds, print=True)\n",
    "alfas = [1e-15, 1e-10, 1e-8, 1e-4, 1e-3, 1e-2, 1, 5, 10, 20, 50, 100]"
   ]
  },
  {
   "cell_type": "markdown",
   "metadata": {},
   "source": [
    "Facciamo training del modello di regressione e valutiamo i risultati con cross validation"
   ]
  },
  {
   "cell_type": "code",
   "execution_count": 4,
   "metadata": {
    "tags": []
   },
   "outputs": [
    {
     "name": "stdout",
     "output_type": "stream",
     "text": [
      "Scaled error: 0.3427984533378825\n",
      "Scaled error: 0.2675400399572118\n",
      "Scaled error: 0.27673962045109407\n",
      "Scaled error: 0.33503643449006953\n",
      "Scaled error: 0.2475441081196953\n"
     ]
    },
    {
     "data": {
      "text/plain": [
       "0.2939317312711907"
      ]
     },
     "execution_count": 4,
     "metadata": {},
     "output_type": "execute_result"
    }
   ],
   "source": [
    "ridge = RidgeRegression(alfa=20)\n",
    "\n",
    "errors = kfolds.cross_validate(ridge, data, \"median_house_value\", quadratic_loss)\n",
    "errors"
   ]
  },
  {
   "cell_type": "markdown",
   "metadata": {},
   "source": [
    "## Proviamo con PCA "
   ]
  },
  {
   "cell_type": "code",
   "execution_count": 5,
   "metadata": {},
   "outputs": [
    {
     "name": "stdout",
     "output_type": "stream",
     "text": [
      "Scaled error: 0.4647432639238174\n",
      "Scaled error: 0.3646435413062233\n",
      "Scaled error: 0.3160491323534456\n",
      "Scaled error: 0.5022527737879804\n",
      "Scaled error: 0.32577089729390135\n"
     ]
    },
    {
     "data": {
      "text/plain": [
       "0.3946919217330736"
      ]
     },
     "execution_count": 5,
     "metadata": {},
     "output_type": "execute_result"
    }
   ],
   "source": [
    "dataPCA = pd.read_pickle(\"./pca.pkl\")\n",
    "errors = kfolds.cross_validate(ridge, dataPCA, \"median_house_value\", quadratic_loss)\n",
    "errors"
   ]
  },
  {
   "cell_type": "markdown",
   "metadata": {},
   "source": [
    "## Proviamo a fare una stima migliore dell'errore con Nested CV"
   ]
  },
  {
   "cell_type": "markdown",
   "metadata": {},
   "source": [
    "Definiamo il numero di fold interni ed esterni e l'insieme di parametri"
   ]
  },
  {
   "cell_type": "code",
   "execution_count": 6,
   "metadata": {},
   "outputs": [],
   "source": [
    "internal_folds = 3\n",
    "nestedKFolds = NestedCV(folds, internal_folds)\n",
    "alfas = [1e-8, 1e-4, 1e-3, 1e-2, 1, 5, 10, 20, 50, 100]"
   ]
  },
  {
   "cell_type": "markdown",
   "metadata": {},
   "source": [
    "Facciamo la stima dell'errore con Nested Cross Validation"
   ]
  },
  {
   "cell_type": "code",
   "execution_count": 7,
   "metadata": {},
   "outputs": [
    {
     "name": "stdout",
     "output_type": "stream",
     "text": [
      "External fold num: 1\n",
      "Testing with value 1e-08 with error : 0.29721157002230725\n",
      "Testing with value 0.0001 with error : 0.2972149340175818\n",
      "Testing with value 0.001 with error : 0.2972149065363545\n",
      "Testing with value 0.01 with error : 0.2972146370416495\n",
      "Testing with value 1 with error : 0.2971858474995795\n",
      "Testing with value 5 with error : 0.29708615712183123\n",
      "Testing with value 10 with error : 0.2969957405170694\n",
      "Testing with value 20 with error : 0.2969108718263865\n",
      "Testing with value 50 with error : 0.2971803471509279\n",
      "Testing with value 100 with error : 0.2984750290498222\n",
      "The best parameter on interal folds is 20.0, with error on external fold: 0.3427984533378825\n",
      "\n",
      "External fold num: 2\n",
      "Testing with value 1e-08 with error : 0.32151280441087227\n",
      "Testing with value 0.0001 with error : 0.3215100900517808\n",
      "Testing with value 0.001 with error : 0.3215101078763025\n",
      "Testing with value 0.01 with error : 0.32151028882843774\n",
      "Testing with value 1 with error : 0.3215303794789185\n",
      "Testing with value 5 with error : 0.32161494962188397\n",
      "Testing with value 10 with error : 0.3217277698634808\n",
      "Testing with value 20 with error : 0.32197397559932417\n",
      "Testing with value 50 with error : 0.32283087839614333\n",
      "Testing with value 100 with error : 0.3244567494068151\n",
      "The best parameter on interal folds is 0.0001, with error on external fold: 0.26694918847128296\n",
      "\n",
      "External fold num: 3\n",
      "Testing with value 1e-08 with error : 0.3187264443050445\n",
      "Testing with value 0.0001 with error : 0.3187269309716401\n",
      "Testing with value 0.001 with error : 0.3187269300105907\n",
      "Testing with value 0.01 with error : 0.31872691851400375\n",
      "Testing with value 1 with error : 0.3187262974818777\n",
      "Testing with value 5 with error : 0.318736323988651\n",
      "Testing with value 10 with error : 0.3187748387241762\n",
      "Testing with value 20 with error : 0.31892577131269184\n",
      "Testing with value 50 with error : 0.3197911326059912\n",
      "Testing with value 100 with error : 0.3219070823154173\n",
      "The best parameter on interal folds is 1.0, with error on external fold: 0.27771508127966865\n",
      "\n",
      "External fold num: 4\n",
      "Testing with value 1e-08 with error : 0.2853431465540234\n",
      "Testing with value 0.0001 with error : 0.2853507208107238\n",
      "Testing with value 0.001 with error : 0.2853507228015647\n",
      "Testing with value 0.01 with error : 0.2853507449846657\n",
      "Testing with value 1 with error : 0.28535344348880165\n",
      "Testing with value 5 with error : 0.2853693125134156\n",
      "Testing with value 10 with error : 0.28539955047938226\n",
      "Testing with value 20 with error : 0.28549021100729866\n",
      "Testing with value 50 with error : 0.2859385342710477\n",
      "Testing with value 100 with error : 0.2870040188207379\n",
      "The best parameter on interal folds is 1e-08, with error on external fold: 0.33322471771177753\n",
      "\n",
      "External fold num: 5\n",
      "Testing with value 1e-08 with error : 0.33049094810322144\n",
      "Testing with value 0.0001 with error : 0.3304985092575085\n",
      "Testing with value 0.001 with error : 0.33049855755080193\n",
      "Testing with value 0.01 with error : 0.3304990469709555\n",
      "Testing with value 1 with error : 0.3305530843154399\n",
      "Testing with value 5 with error : 0.33077534016564014\n",
      "Testing with value 10 with error : 0.33106068344887724\n",
      "Testing with value 20 with error : 0.33164939459245774\n",
      "Testing with value 50 with error : 0.33346998446559534\n",
      "Testing with value 100 with error : 0.33639791493544646\n",
      "The best parameter on interal folds is 1e-08, with error on external fold: 0.2477710330740956\n",
      "\n"
     ]
    },
    {
     "data": {
      "text/plain": [
       "0.29369169477494145"
      ]
     },
     "execution_count": 7,
     "metadata": {},
     "output_type": "execute_result"
    }
   ],
   "source": [
    "error = nestedKFolds.cross_validate(RidgeRegression, data, \"median_house_value\", quadratic_loss, alfas)\n",
    "error"
   ]
  }
 ],
 "metadata": {
  "kernelspec": {
   "display_name": "Python 3.7.7 64-bit ('tf-gpu': conda)",
   "language": "python",
   "name": "python37764bittfgpuconda69e5dcd644e74d2bbdb17a00c65db70c"
  },
  "language_info": {
   "codemirror_mode": {
    "name": "ipython",
    "version": 3
   },
   "file_extension": ".py",
   "mimetype": "text/x-python",
   "name": "python",
   "nbconvert_exporter": "python",
   "pygments_lexer": "ipython3",
   "version": "3.7.7"
  }
 },
 "nbformat": 4,
 "nbformat_minor": 2
}
